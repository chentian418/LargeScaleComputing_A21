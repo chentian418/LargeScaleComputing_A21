{
 "cells": [
  {
   "cell_type": "markdown",
   "metadata": {},
   "source": [
    "# Exploratory Data Analysis and Machine Learning with PySpark in an EMR Notebook\n",
    "\n",
    "Today, we'll explore how you can use your PySpark coding skills in an [EMR Notebook](https://docs.aws.amazon.com/emr/latest/ManagementGuide/emr-managed-notebooks.html) on AWS. Specifically, we'll be working with all of the customer reviews for books in [Amazon's large customer reviews dataset on S3](https://s3.amazonaws.com/amazon-reviews-pds/readme.html). Note that this notebook is meant to be run on an EMR cluster, using a PySpark kernel.\n",
    "\n",
    "First, let's load the customer book reviews data from S3 into our Spark session. The books data is spread across multiple parquet files (as we can see via the AWS CLI below), so we use the wildcard (\\*) to indicate that we want the data from all of these files to be included within our dataframe, spread out over our EMR cluster in partitions."
   ]
  },
  {
   "cell_type": "code",
   "execution_count": null,
   "metadata": {},
   "outputs": [],
   "source": [
    "sc.install_pypi_package(\"boto3\") # use boto3 to see book data in S3 bucket"
   ]
  },
  {
   "cell_type": "code",
   "execution_count": 2,
   "metadata": {},
   "outputs": [
    {
     "data": {
      "application/vnd.jupyter.widget-view+json": {
       "model_id": "7b609db0e53544acaddedf3f7196b68f",
       "version_major": 2,
       "version_minor": 0
      },
      "text/plain": [
       "VBox()"
      ]
     },
     "metadata": {},
     "output_type": "display_data"
    },
    {
     "data": {
      "application/vnd.jupyter.widget-view+json": {
       "model_id": "",
       "version_major": 2,
       "version_minor": 0
      },
      "text/plain": [
       "FloatProgress(value=0.0, bar_style='info', description='Progress:', layout=Layout(height='25px', width='50%'),…"
      ]
     },
     "metadata": {},
     "output_type": "display_data"
    },
    {
     "name": "stdout",
     "output_type": "stream",
     "text": [
      "2018-04-09 06:35:58+00:00 \t 1 GB\t parquet/product_category=Books/part-00000-495c48e6-96d6-4650-aa65-3c36a3516ddd.c000.snappy.parquet \n",
      "\n",
      "2018-04-09 06:35:59+00:00 \t 1 GB\t parquet/product_category=Books/part-00001-495c48e6-96d6-4650-aa65-3c36a3516ddd.c000.snappy.parquet \n",
      "\n",
      "2018-04-09 06:36:00+00:00 \t 1 GB\t parquet/product_category=Books/part-00002-495c48e6-96d6-4650-aa65-3c36a3516ddd.c000.snappy.parquet \n",
      "\n",
      "2018-04-09 06:36:00+00:00 \t 1 GB\t parquet/product_category=Books/part-00003-495c48e6-96d6-4650-aa65-3c36a3516ddd.c000.snappy.parquet \n",
      "\n",
      "2018-04-09 06:36:00+00:00 \t 1 GB\t parquet/product_category=Books/part-00004-495c48e6-96d6-4650-aa65-3c36a3516ddd.c000.snappy.parquet \n",
      "\n",
      "2018-04-09 06:36:33+00:00 \t 1 GB\t parquet/product_category=Books/part-00005-495c48e6-96d6-4650-aa65-3c36a3516ddd.c000.snappy.parquet \n",
      "\n",
      "2018-04-09 06:36:35+00:00 \t 1 GB\t parquet/product_category=Books/part-00006-495c48e6-96d6-4650-aa65-3c36a3516ddd.c000.snappy.parquet \n",
      "\n",
      "2018-04-09 06:36:35+00:00 \t 1 GB\t parquet/product_category=Books/part-00007-495c48e6-96d6-4650-aa65-3c36a3516ddd.c000.snappy.parquet \n",
      "\n",
      "2018-04-09 06:36:35+00:00 \t 1 GB\t parquet/product_category=Books/part-00008-495c48e6-96d6-4650-aa65-3c36a3516ddd.c000.snappy.parquet \n",
      "\n",
      "2018-04-09 06:36:35+00:00 \t 1 GB\t parquet/product_category=Books/part-00009-495c48e6-96d6-4650-aa65-3c36a3516ddd.c000.snappy.parquet"
     ]
    }
   ],
   "source": [
    "import boto3\n",
    "\n",
    "s3 = boto3.resource('s3')\n",
    "bucket = 'amazon-reviews-pds'\n",
    "bucket_resource = s3.Bucket(bucket)\n",
    "\n",
    "for obj in bucket_resource.objects.all():\n",
    "    if 'parquet' in obj.key and 'Books' in obj.key:\n",
    "        print(obj.last_modified,\"\\t\", round(obj.size * 1e-9), \"GB\\t\",\n",
    "              obj.key, \"\\n\")"
   ]
  },
  {
   "cell_type": "code",
   "execution_count": 3,
   "metadata": {},
   "outputs": [
    {
     "data": {
      "application/vnd.jupyter.widget-view+json": {
       "model_id": "7ed3bb9bf91a4a03abb9104e0ab23b20",
       "version_major": 2,
       "version_minor": 0
      },
      "text/plain": [
       "VBox()"
      ]
     },
     "metadata": {},
     "output_type": "display_data"
    },
    {
     "data": {
      "application/vnd.jupyter.widget-view+json": {
       "model_id": "",
       "version_major": 2,
       "version_minor": 0
      },
      "text/plain": [
       "FloatProgress(value=0.0, bar_style='info', description='Progress:', layout=Layout(height='25px', width='50%'),…"
      ]
     },
     "metadata": {},
     "output_type": "display_data"
    }
   ],
   "source": [
    "data = spark.read.parquet('s3://amazon-reviews-pds/parquet/product_category=Books/*.parquet')"
   ]
  },
  {
   "cell_type": "markdown",
   "metadata": {},
   "source": [
    "Now that we have our data loaded in a DataFrame, let's take a look at its structure and contents. We can see that there is a lot of data here (10 GB worth!), even in this small subset of the overall (~50 GB) Amazon Customer Reviews dataset."
   ]
  },
  {
   "cell_type": "code",
   "execution_count": 4,
   "metadata": {},
   "outputs": [
    {
     "data": {
      "application/vnd.jupyter.widget-view+json": {
       "model_id": "0f9e4650b86c4633bf3666126d19aaee",
       "version_major": 2,
       "version_minor": 0
      },
      "text/plain": [
       "VBox()"
      ]
     },
     "metadata": {},
     "output_type": "display_data"
    },
    {
     "data": {
      "application/vnd.jupyter.widget-view+json": {
       "model_id": "",
       "version_major": 2,
       "version_minor": 0
      },
      "text/plain": [
       "FloatProgress(value=0.0, bar_style='info', description='Progress:', layout=Layout(height='25px', width='50%'),…"
      ]
     },
     "metadata": {},
     "output_type": "display_data"
    },
    {
     "name": "stdout",
     "output_type": "stream",
     "text": [
      "Total Columns: 15\n",
      "Total Rows: 20726160\n",
      "root\n",
      " |-- marketplace: string (nullable = true)\n",
      " |-- customer_id: string (nullable = true)\n",
      " |-- review_id: string (nullable = true)\n",
      " |-- product_id: string (nullable = true)\n",
      " |-- product_parent: string (nullable = true)\n",
      " |-- product_title: string (nullable = true)\n",
      " |-- star_rating: integer (nullable = true)\n",
      " |-- helpful_votes: integer (nullable = true)\n",
      " |-- total_votes: integer (nullable = true)\n",
      " |-- vine: string (nullable = true)\n",
      " |-- verified_purchase: string (nullable = true)\n",
      " |-- review_headline: string (nullable = true)\n",
      " |-- review_body: string (nullable = true)\n",
      " |-- review_date: date (nullable = true)\n",
      " |-- year: integer (nullable = true)"
     ]
    }
   ],
   "source": [
    "print('Total Columns: %d' % len(data.dtypes))\n",
    "print('Total Rows: %d' % data.count())\n",
    "data.printSchema()"
   ]
  },
  {
   "cell_type": "markdown",
   "metadata": {},
   "source": [
    "We can take a look at (preview) data from all of our columns at once (using `data.show()`), but this is a bit busy on the screen, so let's select a subset of the columns and take a look at the first 20 rows of our data."
   ]
  },
  {
   "cell_type": "code",
   "execution_count": 5,
   "metadata": {},
   "outputs": [
    {
     "data": {
      "application/vnd.jupyter.widget-view+json": {
       "model_id": "c89b0730fa194d9881e8bf8e7b8e6639",
       "version_major": 2,
       "version_minor": 0
      },
      "text/plain": [
       "VBox()"
      ]
     },
     "metadata": {},
     "output_type": "display_data"
    },
    {
     "data": {
      "application/vnd.jupyter.widget-view+json": {
       "model_id": "",
       "version_major": 2,
       "version_minor": 0
      },
      "text/plain": [
       "FloatProgress(value=0.0, bar_style='info', description='Progress:', layout=Layout(height='25px', width='50%'),…"
      ]
     },
     "metadata": {},
     "output_type": "display_data"
    },
    {
     "name": "stdout",
     "output_type": "stream",
     "text": [
      "+--------------------+-----------+-----------+\n",
      "|       product_title|total_votes|star_rating|\n",
      "+--------------------+-----------+-----------+\n",
      "|Standing Qigong f...|         10|          5|\n",
      "|A Universe from N...|          7|          4|\n",
      "|Hyacinth Girls: A...|          0|          4|\n",
      "|        Bared to You|          1|          5|\n",
      "|     Healer: A Novel|          0|          5|\n",
      "|The Missionary Po...|          7|          4|\n",
      "|I'm Tired of Bein...|          1|          4|\n",
      "|Fifty Shades of G...|          7|          1|\n",
      "|The Thrill of Vic...|          0|          4|\n",
      "|Fifty Shades of G...|          9|          5|\n",
      "|Romeo and Juliet ...|          0|          4|\n",
      "|Wheat Belly: Lose...|          1|          5|\n",
      "|Dangerous Dessert...|          0|          5|\n",
      "|Consciousness Bey...|          0|          5|\n",
      "|The Catcher in th...|          6|          1|\n",
      "|Fearless: The Und...|          0|          4|\n",
      "|Best-Ever Big Sister|          0|          5|\n",
      "|      The Book Thief|          1|          5|\n",
      "|  Large Print Sudoku|          1|          5|\n",
      "|Wild: From Lost t...|          1|          5|\n",
      "+--------------------+-----------+-----------+\n",
      "only showing top 20 rows"
     ]
    }
   ],
   "source": [
    "data[['product_title', 'total_votes', 'star_rating']].show()"
   ]
  },
  {
   "cell_type": "markdown",
   "metadata": {},
   "source": [
    "Using PySpark, we can calculate any number of additional summary statistics using standard SQL-like operations on our DataFrame."
   ]
  },
  {
   "cell_type": "code",
   "execution_count": 6,
   "metadata": {},
   "outputs": [
    {
     "data": {
      "application/vnd.jupyter.widget-view+json": {
       "model_id": "f794fab29bc6462a8be87604e592ed7e",
       "version_major": 2,
       "version_minor": 0
      },
      "text/plain": [
       "VBox()"
      ]
     },
     "metadata": {},
     "output_type": "display_data"
    },
    {
     "data": {
      "application/vnd.jupyter.widget-view+json": {
       "model_id": "",
       "version_major": 2,
       "version_minor": 0
      },
      "text/plain": [
       "FloatProgress(value=0.0, bar_style='info', description='Progress:', layout=Layout(height='25px', width='50%'),…"
      ]
     },
     "metadata": {},
     "output_type": "display_data"
    },
    {
     "name": "stdout",
     "output_type": "stream",
     "text": [
      "+-----------+----------------+------------------+\n",
      "|star_rating|sum(total_votes)|sum(helpful_votes)|\n",
      "+-----------+----------------+------------------+\n",
      "|          5|        54808322|          44825468|\n",
      "|          4|        13954363|          11100563|\n",
      "|          3|        10117356|           7021927|\n",
      "|          2|         9010874|           5581929|\n",
      "|          1|        22624009|          10985502|\n",
      "+-----------+----------------+------------------+"
     ]
    }
   ],
   "source": [
    "stars_votes = (data.groupBy('star_rating')\n",
    "                   .sum('total_votes', 'helpful_votes')\n",
    "                   .sort('star_rating', ascending=False)\n",
    "              )\n",
    "stars_votes.show()"
   ]
  },
  {
   "cell_type": "markdown",
   "metadata": {},
   "source": [
    "We can even plot the results of our summarizations using standard Python packages like Pandas and Seaborn. To do so within an EMR notebook, we will need to install these packages. If we list the packages currently available to us in our SparkContext, you can see that these packages are not already installed, so we will need to install them."
   ]
  },
  {
   "cell_type": "code",
   "execution_count": 7,
   "metadata": {},
   "outputs": [
    {
     "data": {
      "application/vnd.jupyter.widget-view+json": {
       "model_id": "89f3a05c852e4e99bcd374446743f58d",
       "version_major": 2,
       "version_minor": 0
      },
      "text/plain": [
       "VBox()"
      ]
     },
     "metadata": {},
     "output_type": "display_data"
    },
    {
     "data": {
      "application/vnd.jupyter.widget-view+json": {
       "model_id": "",
       "version_major": 2,
       "version_minor": 0
      },
      "text/plain": [
       "FloatProgress(value=0.0, bar_style='info', description='Progress:', layout=Layout(height='25px', width='50%'),…"
      ]
     },
     "metadata": {},
     "output_type": "display_data"
    },
    {
     "name": "stdout",
     "output_type": "stream",
     "text": [
      "aws-cfn-bootstrap (2.0)\n",
      "beautifulsoup4 (4.9.3)\n",
      "boto (2.49.0)\n",
      "boto3 (1.19.12)\n",
      "botocore (1.22.12)\n",
      "click (7.1.2)\n",
      "docutils (0.14)\n",
      "jmespath (0.10.0)\n",
      "joblib (1.0.1)\n",
      "lockfile (0.11.0)\n",
      "lxml (4.6.2)\n",
      "mysqlclient (1.4.2)\n",
      "nltk (3.5)\n",
      "nose (1.3.4)\n",
      "numpy (1.16.5)\n",
      "pip (9.0.1)\n",
      "py-dateutil (2.2)\n",
      "pystache (0.5.4)\n",
      "python-daemon (2.2.3)\n",
      "python-dateutil (2.8.2)\n",
      "python37-sagemaker-pyspark (1.4.1)\n",
      "pytz (2021.1)\n",
      "PyYAML (5.4.1)\n",
      "regex (2021.3.17)\n",
      "s3transfer (0.5.0)\n",
      "setuptools (28.8.0)\n",
      "simplejson (3.2.0)\n",
      "six (1.13.0)\n",
      "tqdm (4.59.0)\n",
      "urllib3 (1.26.7)\n",
      "wheel (0.29.0)\n",
      "windmill (1.6)\n",
      "\n",
      "DEPRECATION: The default format will switch to columns in the future. You can use --format=(legacy|columns) (or define a format=(legacy|columns) in your pip.conf under the [list] section) to disable this warning.\n",
      "You are using pip version 9.0.1, however version 21.3.1 is available.\n",
      "You should consider upgrading via the 'pip install --upgrade pip' command."
     ]
    }
   ],
   "source": [
    "sc.list_packages()"
   ]
  },
  {
   "cell_type": "code",
   "execution_count": null,
   "metadata": {},
   "outputs": [],
   "source": [
    "sc.install_pypi_package(\"pandas==1.0.3\")\n",
    "sc.install_pypi_package(\"scipy==1.4.1\")\n",
    "sc.install_pypi_package(\"matplotlib==3.2.1\")\n",
    "sc.install_pypi_package(\"seaborn==0.10.1\")"
   ]
  },
  {
   "cell_type": "code",
   "execution_count": 9,
   "metadata": {},
   "outputs": [
    {
     "data": {
      "application/vnd.jupyter.widget-view+json": {
       "model_id": "b5f01b306a594500bb3728c1f24b0e84",
       "version_major": 2,
       "version_minor": 0
      },
      "text/plain": [
       "VBox()"
      ]
     },
     "metadata": {},
     "output_type": "display_data"
    },
    {
     "data": {
      "application/vnd.jupyter.widget-view+json": {
       "model_id": "",
       "version_major": 2,
       "version_minor": 0
      },
      "text/plain": [
       "FloatProgress(value=0.0, bar_style='info', description='Progress:', layout=Layout(height='25px', width='50%'),…"
      ]
     },
     "metadata": {},
     "output_type": "display_data"
    },
    {
     "name": "stdout",
     "output_type": "stream",
     "text": [
      "aws-cfn-bootstrap (2.0)\n",
      "beautifulsoup4 (4.9.3)\n",
      "boto (2.49.0)\n",
      "boto3 (1.19.12)\n",
      "botocore (1.22.12)\n",
      "click (7.1.2)\n",
      "cycler (0.11.0)\n",
      "docutils (0.14)\n",
      "jmespath (0.10.0)\n",
      "joblib (1.0.1)\n",
      "kiwisolver (1.3.2)\n",
      "lockfile (0.11.0)\n",
      "lxml (4.6.2)\n",
      "matplotlib (3.2.1)\n",
      "mysqlclient (1.4.2)\n",
      "nltk (3.5)\n",
      "nose (1.3.4)\n",
      "numpy (1.16.5)\n",
      "pandas (1.0.3)\n",
      "pip (9.0.1)\n",
      "py-dateutil (2.2)\n",
      "pyparsing (3.0.4)\n",
      "pystache (0.5.4)\n",
      "python-daemon (2.2.3)\n",
      "python-dateutil (2.8.2)\n",
      "python37-sagemaker-pyspark (1.4.1)\n",
      "pytz (2021.1)\n",
      "PyYAML (5.4.1)\n",
      "regex (2021.3.17)\n",
      "s3transfer (0.5.0)\n",
      "scipy (1.4.1)\n",
      "seaborn (0.10.1)\n",
      "setuptools (28.8.0)\n",
      "simplejson (3.2.0)\n",
      "six (1.13.0)\n",
      "tqdm (4.59.0)\n",
      "urllib3 (1.26.7)\n",
      "wheel (0.29.0)\n",
      "windmill (1.6)\n",
      "\n",
      "DEPRECATION: The default format will switch to columns in the future. You can use --format=(legacy|columns) (or define a format=(legacy|columns) in your pip.conf under the [list] section) to disable this warning.\n",
      "You are using pip version 9.0.1, however version 21.3.1 is available.\n",
      "You should consider upgrading via the 'pip install --upgrade pip' command."
     ]
    }
   ],
   "source": [
    "sc.list_packages()"
   ]
  },
  {
   "cell_type": "markdown",
   "metadata": {},
   "source": [
    "Now that our packages have been successfully installed, let's plot some of our data. Note, though, that because our data is so large, we do not want to send all of it into a Pandas DataFrame-- we want to take advantage of the distributed nature of our Spark DataFrame to perform any computations and then send only small segments of our data into Pandas and our plotting libraries, so that they will be able to handle it in-memory. Here, we use the `toPandas()` method to only send the small dataframe that summarizes the total number of votes for each star rating -- all of the computation was done on the Spark DataFrame.\n",
    "\n",
    "It looks like 5 star reviews had a lot more \"helpful\" votes than all of the other star ratings."
   ]
  },
  {
   "cell_type": "code",
   "execution_count": 10,
   "metadata": {},
   "outputs": [
    {
     "data": {
      "application/vnd.jupyter.widget-view+json": {
       "model_id": "5e884f8add4e417c900a3f4dc74ee60b",
       "version_major": 2,
       "version_minor": 0
      },
      "text/plain": [
       "VBox()"
      ]
     },
     "metadata": {},
     "output_type": "display_data"
    },
    {
     "data": {
      "application/vnd.jupyter.widget-view+json": {
       "model_id": "",
       "version_major": 2,
       "version_minor": 0
      },
      "text/plain": [
       "FloatProgress(value=0.0, bar_style='info', description='Progress:', layout=Layout(height='25px', width='50%'),…"
      ]
     },
     "metadata": {},
     "output_type": "display_data"
    },
    {
     "data": {
      "image/png": "[encoded data removed]",
      "text/plain": [
       "<IPython.core.display.Image object>"
      ]
     },
     "metadata": {},
     "output_type": "display_data"
    }
   ],
   "source": [
    "import seaborn as sns\n",
    "import matplotlib.pyplot as plt\n",
    "\n",
    "df = stars_votes.toPandas()\n",
    "\n",
    "# Close previous plots; otherwise, will just overwrite and display again\n",
    "plt.close()\n",
    "\n",
    "sns.barplot(x='star_rating', y='sum(helpful_votes)', data=df)\n",
    "%matplot plt"
   ]
  },
  {
   "cell_type": "markdown",
   "metadata": {},
   "source": [
    "Given the order of magnitude difference in 5-star helpful votes, we might wonder whether there are simply more 5 star reviews than other star counts. It seems like there are indeed a lot more 5-star ratings than anything else."
   ]
  },
  {
   "cell_type": "code",
   "execution_count": 11,
   "metadata": {},
   "outputs": [
    {
     "data": {
      "application/vnd.jupyter.widget-view+json": {
       "model_id": "809a0335f0fc4037ab33bc0161db64d1",
       "version_major": 2,
       "version_minor": 0
      },
      "text/plain": [
       "VBox()"
      ]
     },
     "metadata": {},
     "output_type": "display_data"
    },
    {
     "data": {
      "application/vnd.jupyter.widget-view+json": {
       "model_id": "",
       "version_major": 2,
       "version_minor": 0
      },
      "text/plain": [
       "FloatProgress(value=0.0, bar_style='info', description='Progress:', layout=Layout(height='25px', width='50%'),…"
      ]
     },
     "metadata": {},
     "output_type": "display_data"
    },
    {
     "name": "stdout",
     "output_type": "stream",
     "text": [
      "+-----------+--------+\n",
      "|star_rating|   count|\n",
      "+-----------+--------+\n",
      "|          5|13662131|\n",
      "|          4| 3546319|\n",
      "|          3| 1543611|\n",
      "|          2|  861867|\n",
      "|          1| 1112232|\n",
      "+-----------+--------+"
     ]
    }
   ],
   "source": [
    "stars = (data.groupBy('star_rating')\n",
    "             .count()\n",
    "             .sort('star_rating', ascending=False)\n",
    "        )\n",
    "stars.show()"
   ]
  },
  {
   "cell_type": "markdown",
   "metadata": {},
   "source": [
    "We can also take a random sample of our distributed dataset and send that sample to Pandas in order to plot it and get a sense of what it looks like. For instance, we can produce a scatter plot of a limited subset of our data using this strategy."
   ]
  },
  {
   "cell_type": "code",
   "execution_count": 12,
   "metadata": {},
   "outputs": [
    {
     "data": {
      "application/vnd.jupyter.widget-view+json": {
       "model_id": "e6b9a26b4acd48868b03d55fbf168dea",
       "version_major": 2,
       "version_minor": 0
      },
      "text/plain": [
       "VBox()"
      ]
     },
     "metadata": {},
     "output_type": "display_data"
    },
    {
     "data": {
      "application/vnd.jupyter.widget-view+json": {
       "model_id": "",
       "version_major": 2,
       "version_minor": 0
      },
      "text/plain": [
       "FloatProgress(value=0.0, bar_style='info', description='Progress:', layout=Layout(height='25px', width='50%'),…"
      ]
     },
     "metadata": {},
     "output_type": "display_data"
    },
    {
     "data": {
      "image/png": "[encoded data removed]",
      "text/plain": [
       "<IPython.core.display.Image object>"
      ]
     },
     "metadata": {},
     "output_type": "display_data"
    }
   ],
   "source": [
    "# Close previous plots; otherwise, will just overwrite and display again\n",
    "plt.close()\n",
    "\n",
    "sampled_data = data.sample(fraction=0.0001)\n",
    "sampled_df = sampled_data.toPandas()\n",
    "sampled_df.plot.scatter('helpful_votes', 'total_votes')\n",
    "%matplot plt"
   ]
  },
  {
   "cell_type": "markdown",
   "metadata": {},
   "source": [
    "## Fitting a Machine Learning Model to Predict whether a Rating will be Good or Bad\n",
    "\n",
    "Once we've explored our data, let's say that we want to fit a Machine Learning model to predict a review's star rating based on other features about the review. Here, let's fit a simple (and extremely naive, for the sake of demonstration) model that predicts whether or a customer review will have a \"good\" star rating (>= 4) or a \"bad\" star rating (<4) based on the total number of votes a review receives. In your homework, you will improve upon this model, engineering other features from the dataset, as well as doing a better job of balancing the data (see below -- there are a lot more \"good\" star-ratings than \"bad\" ones) and setting up a reproducible machine learning pipeline.\n",
    "\n",
    "First, let's create a column that indicates whether a review is good or bad. We'll use this column as labels for machine learning. Note that we're working with a sampled subset of the data so that we can efficiently process the data during the class session."
   ]
  },
  {
   "cell_type": "code",
   "execution_count": 20,
   "metadata": {},
   "outputs": [
    {
     "data": {
      "application/vnd.jupyter.widget-view+json": {
       "model_id": "28aa93dda2294add8c0467a0a990d094",
       "version_major": 2,
       "version_minor": 0
      },
      "text/plain": [
       "VBox()"
      ]
     },
     "metadata": {},
     "output_type": "display_data"
    },
    {
     "data": {
      "application/vnd.jupyter.widget-view+json": {
       "model_id": "",
       "version_major": 2,
       "version_minor": 0
      },
      "text/plain": [
       "FloatProgress(value=0.0, bar_style='info', description='Progress:', layout=Layout(height='25px', width='50%'),…"
      ]
     },
     "metadata": {},
     "output_type": "display_data"
    },
    {
     "name": "stdout",
     "output_type": "stream",
     "text": [
      "+-----------+-----------+\n",
      "|star_rating|good_review|\n",
      "+-----------+-----------+\n",
      "|          5|          1|\n",
      "|          5|          1|\n",
      "|          3|          0|\n",
      "|          4|          1|\n",
      "|          4|          1|\n",
      "+-----------+-----------+\n",
      "only showing top 5 rows\n",
      "\n",
      "+-----------+-----+\n",
      "|good_review|count|\n",
      "+-----------+-----+\n",
      "|          1| 1739|\n",
      "|          0|  356|\n",
      "+-----------+-----+"
     ]
    }
   ],
   "source": [
    "# Good == 1, Bad == 0 (cast as integers so that pyspark.ml can understand them)\n",
    "sampled_data = sampled_data.withColumn('good_review', (data.star_rating >= 4).cast(\"integer\"))\n",
    "\n",
    "# Check to make sure new column is capturing star_rating correctly\n",
    "sampled_data[['star_rating', 'good_review']].show(5)\n",
    "\n",
    "# Take a look at how many good and bad reviews we have, respectively\n",
    "(sampled_data.groupBy('good_review')\n",
    "     .count()\n",
    "     .show()\n",
    ")"
   ]
  },
  {
   "cell_type": "markdown",
   "metadata": {},
   "source": [
    "Then, let's use the `VectorAssembler` to get our total_votes feature into a form that `pyspark.ml` expects it to be in."
   ]
  },
  {
   "cell_type": "code",
   "execution_count": 23,
   "metadata": {},
   "outputs": [
    {
     "data": {
      "application/vnd.jupyter.widget-view+json": {
       "model_id": "c8853616bf914ee7a01840d02696411e",
       "version_major": 2,
       "version_minor": 0
      },
      "text/plain": [
       "VBox()"
      ]
     },
     "metadata": {},
     "output_type": "display_data"
    },
    {
     "data": {
      "application/vnd.jupyter.widget-view+json": {
       "model_id": "",
       "version_major": 2,
       "version_minor": 0
      },
      "text/plain": [
       "FloatProgress(value=0.0, bar_style='info', description='Progress:', layout=Layout(height='25px', width='50%'),…"
      ]
     },
     "metadata": {},
     "output_type": "display_data"
    },
    {
     "name": "stdout",
     "output_type": "stream",
     "text": [
      "+-----------+-----------+--------+\n",
      "|good_review|total_votes|features|\n",
      "+-----------+-----------+--------+\n",
      "|          1|          1|   [1.0]|\n",
      "|          1|          0|   [0.0]|\n",
      "|          0|          1|   [1.0]|\n",
      "|          1|          0|   [0.0]|\n",
      "|          1|          0|   [0.0]|\n",
      "|          1|          0|   [0.0]|\n",
      "|          0|          9|   [9.0]|\n",
      "|          0|          0|   [0.0]|\n",
      "|          1|          0|   [0.0]|\n",
      "|          1|          0|   [0.0]|\n",
      "|          1|          4|   [4.0]|\n",
      "|          1|          2|   [2.0]|\n",
      "|          1|          2|   [2.0]|\n",
      "|          1|          0|   [0.0]|\n",
      "|          1|          0|   [0.0]|\n",
      "|          1|          0|   [0.0]|\n",
      "|          1|          2|   [2.0]|\n",
      "|          1|          0|   [0.0]|\n",
      "|          1|          0|   [0.0]|\n",
      "|          1|          1|   [1.0]|\n",
      "+-----------+-----------+--------+\n",
      "only showing top 20 rows"
     ]
    }
   ],
   "source": [
    "from pyspark.ml.feature import VectorAssembler\n",
    "\n",
    "features = ['total_votes']\n",
    "assembler = VectorAssembler(inputCols = features, outputCol = 'features')\n",
    "\n",
    "sampled_data = assembler.transform(sampled_data)\n",
    "sampled_data[['good_review', 'total_votes', 'features']].show()"
   ]
  },
  {
   "cell_type": "markdown",
   "metadata": {},
   "source": [
    "Then, we split up our data into training and test data and train a logistic regression model on our training data."
   ]
  },
  {
   "cell_type": "code",
   "execution_count": 24,
   "metadata": {},
   "outputs": [
    {
     "data": {
      "application/vnd.jupyter.widget-view+json": {
       "model_id": "9f4553d7524740208dd2ca7d257de230",
       "version_major": 2,
       "version_minor": 0
      },
      "text/plain": [
       "VBox()"
      ]
     },
     "metadata": {},
     "output_type": "display_data"
    },
    {
     "data": {
      "application/vnd.jupyter.widget-view+json": {
       "model_id": "",
       "version_major": 2,
       "version_minor": 0
      },
      "text/plain": [
       "FloatProgress(value=0.0, bar_style='info', description='Progress:', layout=Layout(height='25px', width='50%'),…"
      ]
     },
     "metadata": {},
     "output_type": "display_data"
    }
   ],
   "source": [
    "from pyspark.ml.classification import LogisticRegression\n",
    "\n",
    "train, test = sampled_data.randomSplit([0.7, 0.3])\n",
    "\n",
    "lr = LogisticRegression(featuresCol='features', labelCol='good_review')\n",
    "model = lr.fit(train)"
   ]
  },
  {
   "cell_type": "markdown",
   "metadata": {},
   "source": [
    "And, finally, we can make predictions for our test data and see how good our model is. Note that our predictive accuracy is not bad overall. However, from our \"false positive rate by label\" metric, we can see that our model is essentially just predicting that most reviews will be \"good\" reviews (label 1) -- likely because of our highly unbalanced data (and perhaps use of only a small sample of the data). Accordingly, you'll notice that our AUC is only a bit above .5 (see ROC Curve below). In Assignment 3, it'll be your job to try to improve this model, so that we can better distinguish good from bad customer reviews."
   ]
  },
  {
   "cell_type": "code",
   "execution_count": 25,
   "metadata": {},
   "outputs": [
    {
     "data": {
      "application/vnd.jupyter.widget-view+json": {
       "model_id": "afcebf7bd97b4c989e3884f559ca0341",
       "version_major": 2,
       "version_minor": 0
      },
      "text/plain": [
       "VBox()"
      ]
     },
     "metadata": {},
     "output_type": "display_data"
    },
    {
     "data": {
      "application/vnd.jupyter.widget-view+json": {
       "model_id": "",
       "version_major": 2,
       "version_minor": 0
      },
      "text/plain": [
       "FloatProgress(value=0.0, bar_style='info', description='Progress:', layout=Layout(height='25px', width='50%'),…"
      ]
     },
     "metadata": {},
     "output_type": "display_data"
    }
   ],
   "source": [
    "# Training Summary Data\n",
    "trainingSummary = model.summary\n",
    "evaluationSummary = model.evaluate(test)"
   ]
  },
  {
   "cell_type": "code",
   "execution_count": 26,
   "metadata": {},
   "outputs": [
    {
     "data": {
      "application/vnd.jupyter.widget-view+json": {
       "model_id": "e167bdcd668f4011b389755d35f45d8c",
       "version_major": 2,
       "version_minor": 0
      },
      "text/plain": [
       "VBox()"
      ]
     },
     "metadata": {},
     "output_type": "display_data"
    },
    {
     "data": {
      "application/vnd.jupyter.widget-view+json": {
       "model_id": "",
       "version_major": 2,
       "version_minor": 0
      },
      "text/plain": [
       "FloatProgress(value=0.0, bar_style='info', description='Progress:', layout=Layout(height='25px', width='50%'),…"
      ]
     },
     "metadata": {},
     "output_type": "display_data"
    },
    {
     "name": "stdout",
     "output_type": "stream",
     "text": [
      "Training AUC: 0.6907530284469853\n",
      "Test AUC:  0.674430070865089\n",
      "\n",
      "False positive rate by label (Training):\n",
      "label 0: 0.01181434599156118\n",
      "label 1: 0.9233870967741935\n",
      "\n",
      "True positive rate by label (Training):\n",
      "label 0: 0.07661290322580645\n",
      "label 1: 0.9881856540084388\n",
      "\n",
      "Training Accuracy: 0.8304256803907886\n",
      "Test Accuracy:  0.8368580060422961"
     ]
    }
   ],
   "source": [
    "print(\"Training AUC: \" + str(trainingSummary.areaUnderROC))\n",
    "print(\"Test AUC: \", str(evaluationSummary.areaUnderROC))\n",
    "\n",
    "print(\"\\nFalse positive rate by label (Training):\")\n",
    "for i, rate in enumerate(trainingSummary.falsePositiveRateByLabel):\n",
    "    print(\"label %d: %s\" % (i, rate))\n",
    "\n",
    "print(\"\\nTrue positive rate by label (Training):\")\n",
    "for i, rate in enumerate(trainingSummary.truePositiveRateByLabel):\n",
    "    print(\"label %d: %s\" % (i, rate))\n",
    "    \n",
    "print(\"\\nTraining Accuracy: \" + str(trainingSummary.accuracy))\n",
    "print(\"Test Accuracy: \", str(evaluationSummary.accuracy))"
   ]
  },
  {
   "cell_type": "code",
   "execution_count": 27,
   "metadata": {},
   "outputs": [
    {
     "data": {
      "application/vnd.jupyter.widget-view+json": {
       "model_id": "53e7f095868a4961a73d28201562868d",
       "version_major": 2,
       "version_minor": 0
      },
      "text/plain": [
       "VBox()"
      ]
     },
     "metadata": {},
     "output_type": "display_data"
    },
    {
     "data": {
      "application/vnd.jupyter.widget-view+json": {
       "model_id": "",
       "version_major": 2,
       "version_minor": 0
      },
      "text/plain": [
       "FloatProgress(value=0.0, bar_style='info', description='Progress:', layout=Layout(height='25px', width='50%'),…"
      ]
     },
     "metadata": {},
     "output_type": "display_data"
    }
   ],
   "source": [
    "# Get ROC curve and send it to Pandas so that we can plot it\n",
    "roc_df = evaluationSummary.roc.toPandas()"
   ]
  },
  {
   "cell_type": "code",
   "execution_count": 28,
   "metadata": {},
   "outputs": [
    {
     "data": {
      "application/vnd.jupyter.widget-view+json": {
       "model_id": "ac7d89af511e4a87a4882d444f68e7c6",
       "version_major": 2,
       "version_minor": 0
      },
      "text/plain": [
       "VBox()"
      ]
     },
     "metadata": {},
     "output_type": "display_data"
    },
    {
     "data": {
      "application/vnd.jupyter.widget-view+json": {
       "model_id": "",
       "version_major": 2,
       "version_minor": 0
      },
      "text/plain": [
       "FloatProgress(value=0.0, bar_style='info', description='Progress:', layout=Layout(height='25px', width='50%'),…"
      ]
     },
     "metadata": {},
     "output_type": "display_data"
    },
    {
     "data": {
      "image/png": "[encoded data removed]",
      "text/plain": [
       "<IPython.core.display.Image object>"
      ]
     },
     "metadata": {},
     "output_type": "display_data"
    }
   ],
   "source": [
    "# Close previous plots; otherwise, will just overwrite and display again\n",
    "plt.close()\n",
    "\n",
    "plt.plot(roc_df.FPR, roc_df.TPR, 'b', label = 'AUC = %0.2f' % evaluationSummary.areaUnderROC)\n",
    "plt.legend(loc = 'lower right')\n",
    "plt.plot([0, 1], [0, 1],'r--')\n",
    "plt.xlim([0, 1])\n",
    "plt.ylim([0, 1])\n",
    "plt.ylabel('True Positive Rate')\n",
    "plt.xlabel('False Positive Rate')\n",
    "plt.title('ROC Curve')\n",
    "plt.show()\n",
    "\n",
    "%matplot plt"
   ]
  }
 ],
 "metadata": {
  "kernelspec": {
   "display_name": "PySpark",
   "language": "",
   "name": "pysparkkernel"
  },
  "language_info": {
   "codemirror_mode": {
    "name": "python",
    "version": 3
   },
   "mimetype": "text/x-python",
   "name": "pyspark",
   "pygments_lexer": "python3"
  }
 },
 "nbformat": 4,
 "nbformat_minor": 4
}
